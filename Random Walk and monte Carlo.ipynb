{
 "cells": [
  {
   "cell_type": "markdown",
   "metadata": {},
   "source": [
    "## Task : What is the longest random walk you can take so that on average you will end up 4 blocks or fewer from home?\n",
    "### Or, you have to take a bus if you are 4 blocks or more away from home. how many random walks you can take so that on average you only pay 50% of the time for your travel back home"
   ]
  },
  {
   "cell_type": "markdown",
   "metadata": {},
   "source": [
    "###  Writing a function to generate a random walk.\n",
    "First write a long version, then use the libraries to write a short version"
   ]
  },
  {
   "cell_type": "code",
   "execution_count": 1,
   "metadata": {},
   "outputs": [],
   "source": [
    "import random"
   ]
  },
  {
   "cell_type": "code",
   "execution_count": 3,
   "metadata": {},
   "outputs": [],
   "source": [
    "def random_walk(n):\n",
    "    \"\"\"Write a longer version of the random walk, where the number of steps to be taken is n. \n",
    "       The output of the function is the coordinates after the n random steps taken\"\"\"\n",
    "    #initial conditions\n",
    "    x=0\n",
    "    y=0\n",
    "    for i in range(n):\n",
    "        step = random.choice(['N', 'S', 'E', 'W'])\n",
    "        if step == 'N':\n",
    "            y += 1\n",
    "        elif step == 'S':\n",
    "            y += -1\n",
    "        elif step == 'E':\n",
    "            x += 1\n",
    "        elif step == 'W':\n",
    "            x += -1\n",
    "    return x, y"
   ]
  },
  {
   "cell_type": "code",
   "execution_count": 7,
   "metadata": {},
   "outputs": [
    {
     "data": {
      "text/plain": [
       "(4, 2)"
      ]
     },
     "execution_count": 7,
     "metadata": {},
     "output_type": "execute_result"
    }
   ],
   "source": [
    "random_walk(10)"
   ]
  },
  {
   "cell_type": "markdown",
   "metadata": {},
   "source": [
    "### The following code calculates the distance from home after the random walk"
   ]
  },
  {
   "cell_type": "code",
   "execution_count": 22,
   "metadata": {
    "scrolled": true
   },
   "outputs": [
    {
     "name": "stdout",
     "output_type": "stream",
     "text": [
      "The final coordinates are: (-6, 7) the distance from home is: 13\n",
      "The final coordinates are: (6, 9) the distance from home is: 15\n",
      "The final coordinates are: (-2, 7) the distance from home is: 9\n",
      "The final coordinates are: (12, 1) the distance from home is: 13\n",
      "The final coordinates are: (-12, 1) the distance from home is: 13\n",
      "The final coordinates are: (9, 2) the distance from home is: 11\n",
      "The final coordinates are: (-11, 4) the distance from home is: 15\n",
      "The final coordinates are: (-5, -4) the distance from home is: 9\n",
      "The final coordinates are: (0, -13) the distance from home is: 13\n",
      "The final coordinates are: (12, -1) the distance from home is: 13\n"
     ]
    }
   ],
   "source": [
    "for i in range(10):\n",
    "    walk = random_walk(89)\n",
    "    print(\"The final coordinates are:\", walk , \"the distance from home is:\",  abs(walk[0])+abs(walk[1]))"
   ]
  },
  {
   "cell_type": "code",
   "execution_count": 21,
   "metadata": {},
   "outputs": [
    {
     "data": {
      "text/plain": [
       "5"
      ]
     },
     "execution_count": 21,
     "metadata": {},
     "output_type": "execute_result"
    }
   ],
   "source": [
    "abs(random_walk(100)[0])+abs(random_walk(100)[1])"
   ]
  },
  {
   "cell_type": "markdown",
   "metadata": {},
   "source": [
    "### The following is a more compact version of the same random walk"
   ]
  },
  {
   "cell_type": "code",
   "execution_count": 36,
   "metadata": {},
   "outputs": [],
   "source": [
    "def random_walk2(n):\n",
    "    \"\"\"Returns coordinates after n random steps\"\"\"\n",
    "    #initilizing the initial position if bith x and y at once\n",
    "    x, y = 0, 0\n",
    "    for i in range(n):\n",
    "        (dx, dy) = random.choice([(0,1),(0,-1),(1,0),(-1,0)]) #the tuple choices represent the steps taken in N, S, E, W directions\n",
    "        x += dx\n",
    "        y +=dy\n",
    "    return x, y"
   ]
  },
  {
   "cell_type": "code",
   "execution_count": 45,
   "metadata": {},
   "outputs": [
    {
     "data": {
      "text/plain": [
       "(0, -1)"
      ]
     },
     "execution_count": 45,
     "metadata": {},
     "output_type": "execute_result"
    }
   ],
   "source": [
    "random_walk2(7)"
   ]
  },
  {
   "cell_type": "code",
   "execution_count": 46,
   "metadata": {},
   "outputs": [
    {
     "name": "stdout",
     "output_type": "stream",
     "text": [
      "The final coordinates are: (4, -7) the distance from home is: 11\n",
      "The final coordinates are: (6, -1) the distance from home is: 7\n",
      "The final coordinates are: (-6, 7) the distance from home is: 13\n",
      "The final coordinates are: (-8, 15) the distance from home is: 23\n",
      "The final coordinates are: (16, 13) the distance from home is: 29\n",
      "The final coordinates are: (0, 1) the distance from home is: 1\n",
      "The final coordinates are: (7, -2) the distance from home is: 9\n",
      "The final coordinates are: (-8, 5) the distance from home is: 13\n",
      "The final coordinates are: (-6, -7) the distance from home is: 13\n",
      "The final coordinates are: (2, -7) the distance from home is: 9\n"
     ]
    }
   ],
   "source": [
    "for i in range(10):\n",
    "    walk = random_walk2(89)\n",
    "    print(\"The final coordinates are:\", walk , \"the distance from home is:\",  abs(walk[0])+abs(walk[1]))"
   ]
  },
  {
   "cell_type": "markdown",
   "metadata": {},
   "source": [
    "### Here we will use the method of Monte Carlo to generate a thousand trials and then see for how many trials do you end up more than 4 blocks away from home and pay for the travel back home"
   ]
  },
  {
   "cell_type": "code",
   "execution_count": 55,
   "metadata": {},
   "outputs": [],
   "source": [
    "number_of_walks = 20000"
   ]
  },
  {
   "cell_type": "code",
   "execution_count": 61,
   "metadata": {},
   "outputs": [],
   "source": [
    "def monte_carlo(number_of_walks=20000):\n",
    "    for walk_lengths in range(1,31):\n",
    "        no_transport = 0 #Number of blocks with 4 or fewer from home\n",
    "        for i in range(number_of_walks):\n",
    "            (x, y) = random_walk2(walk_lengths)\n",
    "            distance = abs(x) + abs(y)\n",
    "            if distance <= 4:\n",
    "                no_transport += 1\n",
    "        no_walk_percentage = float(no_transport) / number_of_walks\n",
    "        print(\"Walk size:\" , walk_lengths , \"percentage of no transport:\" , no_walk_percentage)\n"
   ]
  },
  {
   "cell_type": "code",
   "execution_count": 60,
   "metadata": {},
   "outputs": [
    {
     "name": "stdout",
     "output_type": "stream",
     "text": [
      "Walk size: 1 percentage of no transport: 1.0\n",
      "Walk size: 2 percentage of no transport: 1.0\n",
      "Walk size: 3 percentage of no transport: 1.0\n",
      "Walk size: 4 percentage of no transport: 1.0\n",
      "Walk size: 5 percentage of no transport: 0.87605\n",
      "Walk size: 6 percentage of no transport: 0.9374\n",
      "Walk size: 7 percentage of no transport: 0.7684\n",
      "Walk size: 8 percentage of no transport: 0.86465\n",
      "Walk size: 9 percentage of no transport: 0.6782\n",
      "Walk size: 10 percentage of no transport: 0.79035\n",
      "Walk size: 11 percentage of no transport: 0.59695\n",
      "Walk size: 12 percentage of no transport: 0.72915\n",
      "Walk size: 13 percentage of no transport: 0.5405\n",
      "Walk size: 14 percentage of no transport: 0.6765\n",
      "Walk size: 15 percentage of no transport: 0.4864\n",
      "Walk size: 16 percentage of no transport: 0.6266\n",
      "Walk size: 17 percentage of no transport: 0.4438\n",
      "Walk size: 18 percentage of no transport: 0.5801\n",
      "Walk size: 19 percentage of no transport: 0.4043\n",
      "Walk size: 20 percentage of no transport: 0.5461\n",
      "Walk size: 21 percentage of no transport: 0.37565\n",
      "Walk size: 22 percentage of no transport: 0.5095\n",
      "Walk size: 23 percentage of no transport: 0.357\n",
      "Walk size: 24 percentage of no transport: 0.4838\n",
      "Walk size: 25 percentage of no transport: 0.33145\n",
      "Walk size: 26 percentage of no transport: 0.45055\n",
      "Walk size: 27 percentage of no transport: 0.3098\n",
      "Walk size: 28 percentage of no transport: 0.4341\n",
      "Walk size: 29 percentage of no transport: 0.2976\n",
      "Walk size: 30 percentage of no transport: 0.4094\n"
     ]
    }
   ],
   "source": [
    "monte_carlo()"
   ]
  },
  {
   "cell_type": "markdown",
   "metadata": {},
   "source": [
    "### We see that for walk size of 22 the persentage is 50. So half of the time you will end up paying for the transport back"
   ]
  },
  {
   "cell_type": "code",
   "execution_count": null,
   "metadata": {},
   "outputs": [],
   "source": []
  }
 ],
 "metadata": {
  "kernelspec": {
   "display_name": "Python 3",
   "language": "python",
   "name": "python3"
  },
  "language_info": {
   "codemirror_mode": {
    "name": "ipython",
    "version": 3
   },
   "file_extension": ".py",
   "mimetype": "text/x-python",
   "name": "python",
   "nbconvert_exporter": "python",
   "pygments_lexer": "ipython3",
   "version": "3.7.6"
  }
 },
 "nbformat": 4,
 "nbformat_minor": 4
}
